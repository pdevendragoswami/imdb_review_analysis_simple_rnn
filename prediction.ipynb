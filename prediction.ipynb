{
 "cells": [
  {
   "cell_type": "code",
   "execution_count": 1,
   "id": "87168809",
   "metadata": {},
   "outputs": [],
   "source": [
    "from tensorflow.keras.models import load_model\n",
    "from tensorflow.keras.preprocessing.sequence import pad_sequences\n",
    "from tensorflow.keras.datasets import imdb"
   ]
  },
  {
   "cell_type": "code",
   "execution_count": 2,
   "id": "686a0d9c",
   "metadata": {},
   "outputs": [
    {
     "name": "stderr",
     "output_type": "stream",
     "text": [
      "WARNING:absl:Compiled the loaded model, but the compiled metrics have yet to be built. `model.compile_metrics` will be empty until you train or evaluate the model.\n"
     ]
    }
   ],
   "source": [
    "#loading the model\n",
    "model = load_model(\"simple_rnn_colab.h5\")\n",
    "#weights of models\n",
    "#model.get_weights()"
   ]
  },
  {
   "cell_type": "code",
   "execution_count": 3,
   "id": "31be65a2",
   "metadata": {},
   "outputs": [],
   "source": [
    "max_features = 10000 # Only the top 10,000 words are considered, vocabulary size\n",
    "max_len = 500 # Maximum review length\n",
    "\n",
    "# Load word index mapping from IMDB dataset\n",
    "word_index = imdb.get_word_index()\n",
    "\n",
    "# Reverse the word index to map integers back to words\n",
    "reverse_word_index = { value:key for key,value in word_index.items()}\n",
    "\n",
    "#function to decode the review\n",
    "def decoded_review(encoded_review):\n",
    "    return \" \".join([reverse_word_index.get(i-3, \"?\") for i in encoded_review])\n",
    "\n",
    "\n",
    "#function to preprocess the user input into a padded sequence suitable for model prediction\n",
    "def preprocessed_text(text, max_features=10000, max_len=500):\n",
    "    words = text.lower().split()\n",
    "    \n",
    "    # Encode each word using the IMDB word index\n",
    "    encoded_review = [word_index.get(word,2)+3 for word in words] # 2 is for unknown words\n",
    "\n",
    "    # Pad the sequence to a fixed length\n",
    "    padded_review = pad_sequences([encoded_review], maxlen=max_len)\n",
    "    \n",
    "    # Clip to ensure no index exceeds the embedding input range\n",
    "    padded_review = padded_review.clip(0, max_features - 1)\n",
    "\n",
    "    return padded_review"
   ]
  },
  {
   "cell_type": "code",
   "execution_count": 4,
   "id": "2cbc1ef6",
   "metadata": {},
   "outputs": [],
   "source": [
    "#prediction function\n",
    "def predict_sentiment(review):\n",
    "    preprocessed_review = preprocessed_text(review)\n",
    "    \n",
    "    prediction = model.predict(preprocessed_review)\n",
    "\n",
    "    sentiment = \"Positive\" if prediction[0][0] > 0.5 else \"Negative\"\n",
    "\n",
    "    return sentiment, prediction[0][0]"
   ]
  },
  {
   "cell_type": "code",
   "execution_count": 5,
   "id": "003c9c68",
   "metadata": {},
   "outputs": [
    {
     "name": "stdout",
     "output_type": "stream",
     "text": [
      "\u001b[1m1/1\u001b[0m \u001b[32m━━━━━━━━━━━━━━━━━━━━\u001b[0m\u001b[37m\u001b[0m \u001b[1m0s\u001b[0m 382ms/step\n",
      "The movie review is: ' the movie was awesom and the acting was great and plot was thrilling even acting was good, connected to the audiance', \n",
      " The sentiment is: Positive \n",
      " prediction score: 0.89035964012146\n"
     ]
    }
   ],
   "source": [
    "#user input and prediction\n",
    "\n",
    "example = \"the movie was awesom and the acting was great and plot was thrilling even acting was good, connected to the audiance\"\n",
    "sentiment, score = predict_sentiment(example)\n",
    "\n",
    "print(f\"The movie review is: ' {example}', \\n The sentiment is: {sentiment} \\n prediction score: {score}\")"
   ]
  },
  {
   "cell_type": "code",
   "execution_count": null,
   "id": "93daf7e4",
   "metadata": {},
   "outputs": [],
   "source": []
  },
  {
   "cell_type": "code",
   "execution_count": null,
   "id": "af5a7def",
   "metadata": {},
   "outputs": [],
   "source": []
  },
  {
   "cell_type": "code",
   "execution_count": null,
   "id": "9b373e81",
   "metadata": {},
   "outputs": [],
   "source": []
  }
 ],
 "metadata": {
  "kernelspec": {
   "display_name": "nlp_venv",
   "language": "python",
   "name": "python3"
  },
  "language_info": {
   "codemirror_mode": {
    "name": "ipython",
    "version": 3
   },
   "file_extension": ".py",
   "mimetype": "text/x-python",
   "name": "python",
   "nbconvert_exporter": "python",
   "pygments_lexer": "ipython3",
   "version": "3.11.9"
  }
 },
 "nbformat": 4,
 "nbformat_minor": 5
}

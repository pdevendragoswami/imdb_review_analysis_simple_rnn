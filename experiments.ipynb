{
 "cells": [
  {
   "cell_type": "code",
   "execution_count": 1,
   "id": "ac036b94",
   "metadata": {},
   "outputs": [
    {
     "name": "stderr",
     "output_type": "stream",
     "text": [
      "2025-05-13 11:30:36.810281: I tensorflow/core/platform/cpu_feature_guard.cc:193] This TensorFlow binary is optimized with oneAPI Deep Neural Network Library (oneDNN) to use the following CPU instructions in performance-critical operations:  AVX2 AVX512F AVX512_VNNI FMA\n",
      "To enable them in other operations, rebuild TensorFlow with the appropriate compiler flags.\n",
      "2025-05-13 11:30:37.405732: I tensorflow/core/util/util.cc:169] oneDNN custom operations are on. You may see slightly different numerical results due to floating-point round-off errors from different computation orders. To turn them off, set the environment variable `TF_ENABLE_ONEDNN_OPTS=0`.\n",
      "2025-05-13 11:30:37.523639: E tensorflow/stream_executor/cuda/cuda_blas.cc:2981] Unable to register cuBLAS factory: Attempting to register factory for plugin cuBLAS when one has already been registered\n",
      "2025-05-13 11:30:40.398413: W tensorflow/stream_executor/platform/default/dso_loader.cc:64] Could not load dynamic library 'libnvinfer.so.7'; dlerror: libnvinfer.so.7: cannot open shared object file: No such file or directory; LD_LIBRARY_PATH: /usr/local/cuda/lib64:\n",
      "2025-05-13 11:30:40.399045: W tensorflow/stream_executor/platform/default/dso_loader.cc:64] Could not load dynamic library 'libnvinfer_plugin.so.7'; dlerror: libnvinfer_plugin.so.7: cannot open shared object file: No such file or directory; LD_LIBRARY_PATH: /usr/local/cuda/lib64:\n",
      "2025-05-13 11:30:40.399074: W tensorflow/compiler/tf2tensorrt/utils/py_utils.cc:38] TF-TRT Warning: Cannot dlopen some TensorRT libraries. If you would like to use Nvidia GPU with TensorRT, please make sure the missing libraries mentioned above are installed properly.\n"
     ]
    }
   ],
   "source": [
    "from tensorflow.keras.models import Sequential\n",
    "from tensorflow.keras.layers import Dense, Embedding, SimpleRNN\n",
    "from tensorflow.keras.datasets import imdb\n",
    "from tensorflow.keras.preprocessing import sequence\n",
    "from tensorflow.keras.callbacks import EarlyStopping,TensorBoard"
   ]
  },
  {
   "cell_type": "code",
   "execution_count": 2,
   "id": "47e5699e",
   "metadata": {},
   "outputs": [
    {
     "name": "stdout",
     "output_type": "stream",
     "text": [
      " training data shape:(25000,), Testing data shape: (25000,)\n",
      " training data shape:(25000,), Testing data shape: (25000,)\n"
     ]
    }
   ],
   "source": [
    "#loadig the imdb dataset\n",
    "\n",
    "max_features = 10000 #define the vocabulary size\n",
    "\n",
    "(X_train, y_train), (X_test, y_test) = imdb.load_data(num_words=max_features) \n",
    "\n",
    "print(f\" training data shape:{X_train.shape}, Testing data shape: {X_test.shape}\")\n",
    "print(f\" training data shape:{y_train.shape}, Testing data shape: {y_test.shape}\")"
   ]
  },
  {
   "cell_type": "code",
   "execution_count": 3,
   "id": "7a9ddfb3",
   "metadata": {},
   "outputs": [],
   "source": [
    "#sample review and its label\n",
    "sample_review = X_train[0]\n",
    "sample_label = y_train[0]"
   ]
  },
  {
   "cell_type": "code",
   "execution_count": 4,
   "id": "b15dbfe0",
   "metadata": {},
   "outputs": [],
   "source": [
    "#mapping of index to their respective words tin understand the sentence\n",
    "\n",
    "word_index = imdb.get_word_index()\n",
    "reversed_word_index = {value:key for key,value in word_index.items()}"
   ]
  },
  {
   "cell_type": "code",
   "execution_count": 5,
   "id": "d9abec95",
   "metadata": {},
   "outputs": [
    {
     "data": {
      "text/plain": [
       "\"? this film was just brilliant casting location scenery story direction everyone's really suited the part they played and you could just imagine being there robert ? is an amazing actor and now the same being director ? father came from the same scottish island as myself so i loved the fact there was a real connection with this film the witty remarks throughout the film were great it was just brilliant so much that i bought the film as soon as it was released for ? and would recommend it to everyone to watch and the fly fishing was amazing really cried at the end it was so sad and you know what they say if you cry at a film it must have been good and this definitely was also ? to the two little boy's that played the ? of norman and paul they were just brilliant children are often left out of the ? list i think because the stars that play them all grown up are such a big profile for the whole film but these children are amazing and should be praised for what they have done don't you think the whole story was so lovely because it was true and was someone's life after all that was shared with us all\""
      ]
     },
     "execution_count": 5,
     "metadata": {},
     "output_type": "execute_result"
    }
   ],
   "source": [
    "decoded_sample_review = \" \".join([reversed_word_index.get(i-3, \"?\") for i in sample_review])\n",
    "decoded_sample_review"
   ]
  },
  {
   "cell_type": "code",
   "execution_count": 6,
   "id": "76ba6e6c",
   "metadata": {},
   "outputs": [
    {
     "data": {
      "text/plain": [
       "array([[   0,    0,    0, ...,   19,  178,   32],\n",
       "       [   0,    0,    0, ...,   16,  145,   95],\n",
       "       [   0,    0,    0, ...,    7,  129,  113],\n",
       "       ...,\n",
       "       [   0,    0,    0, ...,    4, 3586,    2],\n",
       "       [   0,    0,    0, ...,   12,    9,   23],\n",
       "       [   0,    0,    0, ...,  204,  131,    9]], dtype=int32)"
      ]
     },
     "execution_count": 6,
     "metadata": {},
     "output_type": "execute_result"
    }
   ],
   "source": [
    "max_len = 500\n",
    "\n",
    "X_train = sequence.pad_sequences(X_train, maxlen=max_len)\n",
    "X_test = sequence.pad_sequences(X_test, maxlen= max_len)\n",
    "X_train"
   ]
  },
  {
   "cell_type": "code",
   "execution_count": 7,
   "id": "3e40b560",
   "metadata": {},
   "outputs": [
    {
     "name": "stderr",
     "output_type": "stream",
     "text": [
      "2025-05-13 11:30:56.809028: E tensorflow/stream_executor/cuda/cuda_driver.cc:265] failed call to cuInit: CUDA_ERROR_UNKNOWN: unknown error\n",
      "2025-05-13 11:30:56.809108: I tensorflow/stream_executor/cuda/cuda_diagnostics.cc:169] retrieving CUDA diagnostic information for host: archana-Katana-GF76-11UE\n",
      "2025-05-13 11:30:56.809128: I tensorflow/stream_executor/cuda/cuda_diagnostics.cc:176] hostname: archana-Katana-GF76-11UE\n",
      "2025-05-13 11:30:56.809378: I tensorflow/stream_executor/cuda/cuda_diagnostics.cc:200] libcuda reported version is: 550.144.3\n",
      "2025-05-13 11:30:56.809432: I tensorflow/stream_executor/cuda/cuda_diagnostics.cc:204] kernel reported version is: 550.144.3\n",
      "2025-05-13 11:30:56.809448: I tensorflow/stream_executor/cuda/cuda_diagnostics.cc:310] kernel version seems to match DSO: 550.144.3\n",
      "2025-05-13 11:30:56.811633: I tensorflow/core/platform/cpu_feature_guard.cc:193] This TensorFlow binary is optimized with oneAPI Deep Neural Network Library (oneDNN) to use the following CPU instructions in performance-critical operations:  AVX2 AVX512F AVX512_VNNI FMA\n",
      "To enable them in other operations, rebuild TensorFlow with the appropriate compiler flags.\n"
     ]
    }
   ],
   "source": [
    "#creating the simple rnn model\n",
    "dim = 128  #feature representation \n",
    "model = Sequential()\n",
    "model.add(Embedding(max_features,dim,input_length = max_len))  #Embedding layers\n",
    "model.add(SimpleRNN(128, activation='relu'))\n",
    "model.add(Dense(1,activation=\"sigmoid\"))\n",
    "\n",
    "model.compile(optimizer = 'adam', metrics = [\"accuracy\"],loss=\"binary_crossentropy\")"
   ]
  },
  {
   "cell_type": "code",
   "execution_count": 8,
   "id": "e8d5503e",
   "metadata": {},
   "outputs": [
    {
     "name": "stdout",
     "output_type": "stream",
     "text": [
      "Model: \"sequential\"\n",
      "_________________________________________________________________\n",
      " Layer (type)                Output Shape              Param #   \n",
      "=================================================================\n",
      " embedding (Embedding)       (None, 500, 128)          1280000   \n",
      "                                                                 \n",
      " simple_rnn (SimpleRNN)      (None, 128)               32896     \n",
      "                                                                 \n",
      " dense (Dense)               (None, 1)                 129       \n",
      "                                                                 \n",
      "=================================================================\n",
      "Total params: 1,313,025\n",
      "Trainable params: 1,313,025\n",
      "Non-trainable params: 0\n",
      "_________________________________________________________________\n"
     ]
    }
   ],
   "source": [
    "model.summary()"
   ]
  },
  {
   "cell_type": "code",
   "execution_count": 9,
   "id": "057f9b02",
   "metadata": {},
   "outputs": [],
   "source": [
    "early_stopping  = EarlyStopping(patience=5,monitor=\"val_loss\", restore_best_weights=True)\n",
    "\n",
    "log_dir = \"logs/fit\"\n",
    "tensorboard =  TensorBoard(log_dir=log_dir, histogram_freq=1)"
   ]
  },
  {
   "cell_type": "code",
   "execution_count": 10,
   "id": "860ecd4c",
   "metadata": {},
   "outputs": [
    {
     "name": "stdout",
     "output_type": "stream",
     "text": [
      "Epoch 1/10\n",
      "782/782 [==============================] - 277s 351ms/step - loss: 3617172.2500 - accuracy: 0.6344 - val_loss: 0.6332 - val_accuracy: 0.6226\n",
      "Epoch 2/10\n",
      "782/782 [==============================] - 273s 349ms/step - loss: 0.5576 - accuracy: 0.7082 - val_loss: 0.5307 - val_accuracy: 0.7457\n",
      "Epoch 3/10\n",
      "782/782 [==============================] - 269s 344ms/step - loss: 28.5616 - accuracy: 0.7996 - val_loss: 0.4647 - val_accuracy: 0.7883\n",
      "Epoch 4/10\n",
      "782/782 [==============================] - 271s 347ms/step - loss: 73496633344.0000 - accuracy: 0.7763 - val_loss: 0.6696 - val_accuracy: 0.5720\n",
      "Epoch 5/10\n",
      "782/782 [==============================] - 264s 338ms/step - loss: 0.4871 - accuracy: 0.7522 - val_loss: 0.4518 - val_accuracy: 0.7954\n",
      "Epoch 6/10\n",
      "782/782 [==============================] - 268s 343ms/step - loss: 4357327.5000 - accuracy: 0.7302 - val_loss: 0.6178 - val_accuracy: 0.6494\n",
      "Epoch 7/10\n",
      "782/782 [==============================] - 267s 342ms/step - loss: 0.4948 - accuracy: 0.7464 - val_loss: 0.6114 - val_accuracy: 0.6684\n",
      "Epoch 8/10\n",
      "782/782 [==============================] - 265s 338ms/step - loss: 0.4086 - accuracy: 0.8115 - val_loss: 0.5015 - val_accuracy: 0.7691\n",
      "Epoch 9/10\n",
      "782/782 [==============================] - 265s 339ms/step - loss: 0.3034 - accuracy: 0.8795 - val_loss: 0.4815 - val_accuracy: 0.7904\n",
      "Epoch 10/10\n",
      "782/782 [==============================] - 265s 339ms/step - loss: 0.2482 - accuracy: 0.9086 - val_loss: 0.4776 - val_accuracy: 0.7987\n"
     ]
    }
   ],
   "source": [
    "#training the model \n",
    "history = model.fit(\n",
    "    X_train,y_train, epochs=10,batch_size=32,\n",
    "    validation_data=(X_test,y_test),\n",
    "    callbacks =[early_stopping]\n",
    ")"
   ]
  },
  {
   "cell_type": "code",
   "execution_count": 11,
   "id": "4e7e7c88",
   "metadata": {},
   "outputs": [],
   "source": [
    "model.save(\"simple_rnn.h5\")"
   ]
  },
  {
   "cell_type": "code",
   "execution_count": null,
   "id": "d93f84e7",
   "metadata": {},
   "outputs": [],
   "source": []
  }
 ],
 "metadata": {
  "kernelspec": {
   "display_name": "nlp_venv",
   "language": "python",
   "name": "python3"
  },
  "language_info": {
   "codemirror_mode": {
    "name": "ipython",
    "version": 3
   },
   "file_extension": ".py",
   "mimetype": "text/x-python",
   "name": "python",
   "nbconvert_exporter": "python",
   "pygments_lexer": "ipython3",
   "version": "3.10.17"
  }
 },
 "nbformat": 4,
 "nbformat_minor": 5
}
